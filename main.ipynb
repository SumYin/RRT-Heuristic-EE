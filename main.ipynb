{
 "cells": [
  {
   "cell_type": "markdown",
   "metadata": {},
   "source": [
    "## Set up Enviroment by enabling the current workspace venv"
   ]
  },
  {
   "cell_type": "code",
   "execution_count": 58,
   "metadata": {
    "vscode": {
     "languageId": "shellscript"
    }
   },
   "outputs": [
    {
     "name": "stdout",
     "output_type": "stream",
     "text": [
      "asttokens==3.0.0\n",
      "colorama==0.4.6\n",
      "comm==0.2.2\n",
      "contourpy==1.3.1\n",
      "cycler==0.12.1\n",
      "debugpy==1.8.12\n",
      "decorator==5.2.1\n",
      "executing==2.2.0\n",
      "fonttools==4.56.0\n",
      "ipykernel==6.29.5\n",
      "ipython==8.32.0\n",
      "jedi==0.19.2\n",
      "jupyter_client==8.6.3\n",
      "jupyter_core==5.7.2\n",
      "kiwisolver==1.4.8\n",
      "matplotlib==3.10.0\n",
      "matplotlib-inline==0.1.7\n",
      "nest-asyncio==1.6.0\n",
      "numpy==2.2.3\n",
      "packaging==24.2\n",
      "pandas==2.2.3\n",
      "parso==0.8.4\n",
      "pillow==11.1.0\n",
      "platformdirs==4.3.6\n",
      "prompt_toolkit==3.0.50\n",
      "psutil==7.0.0\n",
      "pure_eval==0.2.3\n",
      "Pygments==2.19.1\n",
      "pyparsing==3.2.1\n",
      "python-dateutil==2.9.0.post0\n",
      "pytz==2025.1\n",
      "pywin32==308\n",
      "pyzmq==26.2.1\n",
      "scipy==1.15.2\n",
      "six==1.17.0\n",
      "stack-data==0.6.3\n",
      "tornado==6.4.2\n",
      "tqdm==4.67.1\n",
      "traitlets==5.14.3\n",
      "tzdata==2025.1\n",
      "wcwidth==0.2.13\n"
     ]
    }
   ],
   "source": [
    "!pip freeze"
   ]
  },
  {
   "cell_type": "code",
   "execution_count": 59,
   "metadata": {
    "vscode": {
     "languageId": "shellscript"
    }
   },
   "outputs": [
    {
     "name": "stdout",
     "output_type": "stream",
     "text": [
      "Requirement already satisfied: matplotlib in c:\\users\\sumyin\\documents\\github\\rrt-heuristic-ee\\.venv\\lib\\site-packages (3.10.0)\n",
      "Requirement already satisfied: contourpy>=1.0.1 in c:\\users\\sumyin\\documents\\github\\rrt-heuristic-ee\\.venv\\lib\\site-packages (from matplotlib) (1.3.1)\n",
      "Requirement already satisfied: cycler>=0.10 in c:\\users\\sumyin\\documents\\github\\rrt-heuristic-ee\\.venv\\lib\\site-packages (from matplotlib) (0.12.1)\n",
      "Requirement already satisfied: fonttools>=4.22.0 in c:\\users\\sumyin\\documents\\github\\rrt-heuristic-ee\\.venv\\lib\\site-packages (from matplotlib) (4.56.0)\n",
      "Requirement already satisfied: kiwisolver>=1.3.1 in c:\\users\\sumyin\\documents\\github\\rrt-heuristic-ee\\.venv\\lib\\site-packages (from matplotlib) (1.4.8)\n",
      "Requirement already satisfied: numpy>=1.23 in c:\\users\\sumyin\\documents\\github\\rrt-heuristic-ee\\.venv\\lib\\site-packages (from matplotlib) (2.2.3)\n",
      "Requirement already satisfied: packaging>=20.0 in c:\\users\\sumyin\\documents\\github\\rrt-heuristic-ee\\.venv\\lib\\site-packages (from matplotlib) (24.2)\n",
      "Requirement already satisfied: pillow>=8 in c:\\users\\sumyin\\documents\\github\\rrt-heuristic-ee\\.venv\\lib\\site-packages (from matplotlib) (11.1.0)\n",
      "Requirement already satisfied: pyparsing>=2.3.1 in c:\\users\\sumyin\\documents\\github\\rrt-heuristic-ee\\.venv\\lib\\site-packages (from matplotlib) (3.2.1)\n",
      "Requirement already satisfied: python-dateutil>=2.7 in c:\\users\\sumyin\\documents\\github\\rrt-heuristic-ee\\.venv\\lib\\site-packages (from matplotlib) (2.9.0.post0)\n",
      "Requirement already satisfied: six>=1.5 in c:\\users\\sumyin\\documents\\github\\rrt-heuristic-ee\\.venv\\lib\\site-packages (from python-dateutil>=2.7->matplotlib) (1.17.0)\n",
      "Requirement already satisfied: numpy in c:\\users\\sumyin\\documents\\github\\rrt-heuristic-ee\\.venv\\lib\\site-packages (2.2.3)\n",
      "Requirement already satisfied: pandas in c:\\users\\sumyin\\documents\\github\\rrt-heuristic-ee\\.venv\\lib\\site-packages (2.2.3)\n",
      "Requirement already satisfied: numpy>=1.26.0 in c:\\users\\sumyin\\documents\\github\\rrt-heuristic-ee\\.venv\\lib\\site-packages (from pandas) (2.2.3)\n",
      "Requirement already satisfied: python-dateutil>=2.8.2 in c:\\users\\sumyin\\documents\\github\\rrt-heuristic-ee\\.venv\\lib\\site-packages (from pandas) (2.9.0.post0)\n",
      "Requirement already satisfied: pytz>=2020.1 in c:\\users\\sumyin\\documents\\github\\rrt-heuristic-ee\\.venv\\lib\\site-packages (from pandas) (2025.1)\n",
      "Requirement already satisfied: tzdata>=2022.7 in c:\\users\\sumyin\\documents\\github\\rrt-heuristic-ee\\.venv\\lib\\site-packages (from pandas) (2025.1)\n",
      "Requirement already satisfied: six>=1.5 in c:\\users\\sumyin\\documents\\github\\rrt-heuristic-ee\\.venv\\lib\\site-packages (from python-dateutil>=2.8.2->pandas) (1.17.0)\n",
      "Requirement already satisfied: tqdm in c:\\users\\sumyin\\documents\\github\\rrt-heuristic-ee\\.venv\\lib\\site-packages (4.67.1)\n",
      "Requirement already satisfied: colorama in c:\\users\\sumyin\\documents\\github\\rrt-heuristic-ee\\.venv\\lib\\site-packages (from tqdm) (0.4.6)\n",
      "Requirement already satisfied: scipy in c:\\users\\sumyin\\documents\\github\\rrt-heuristic-ee\\.venv\\lib\\site-packages (1.15.2)\n",
      "Requirement already satisfied: numpy<2.5,>=1.23.5 in c:\\users\\sumyin\\documents\\github\\rrt-heuristic-ee\\.venv\\lib\\site-packages (from scipy) (2.2.3)\n"
     ]
    }
   ],
   "source": [
    "!pip install matplotlib\n",
    "!pip install numpy\n",
    "!pip install pandas\n",
    "!pip install tqdm\n",
    "!pip install scipy"
   ]
  },
  {
   "cell_type": "markdown",
   "metadata": {},
   "source": [
    "## Initialize some values\n",
    "Here is how we are going to set this up, the entire map will be from {0<=x<=1} {0<=y<=1} \n",
    "The heruistic map will be split using the mapResolution variable to then split this 1x1 grid into sections to then generate a aproximated heruistic"
   ]
  },
  {
   "cell_type": "code",
   "execution_count": 233,
   "metadata": {},
   "outputs": [],
   "source": [
    "#import libraries\n",
    "import numpy as np\n",
    "import matplotlib.pyplot as plt\n",
    "import scipy as sp\n",
    "from tqdm import tqdm\n",
    "\n",
    "#Heuristic map\n",
    "mapResolution = 32\n",
    "heuristicMap = np.zeros((mapResolution, mapResolution))\n",
    "\n",
    "#Start and Goal\n",
    "start = (0, 0)\n",
    "goal = (1, 1)"
   ]
  },
  {
   "cell_type": "markdown",
   "metadata": {},
   "source": [
    "## Set up some Functions"
   ]
  },
  {
   "cell_type": "code",
   "execution_count": 234,
   "metadata": {},
   "outputs": [],
   "source": [
    "#corodinates to heuristic map index *not sure if this is needed\n",
    "def coord2ind(x, y):\n",
    "    if x > 1 or x < 0 or y > 1 or y < 0:\n",
    "        print(f\"Error: x and y must be within the range [0, 1]\")\n",
    "        raise ValueError\n",
    "    return (round(x*mapResolution) , round(y*mapResolution))\n",
    "\n",
    "#heuristic map index to coordinate within that cell, random uniform distribution within cell\n",
    "def ind2coord(x, y):\n",
    "    #x and y cannot be larger or equal to mapResolution\n",
    "    if x >= mapResolution or y >= mapResolution:\n",
    "        print(f\"Error: x and y cannot be larger or equal to mapResolution: {mapResolution}\")\n",
    "        raise ValueError\n",
    "    return (np.random.uniform(x/mapResolution, (x+1)/mapResolution), np.random.uniform(y/mapResolution, (y+1)/mapResolution))\n",
    "\n",
    "#heuristic function\n",
    "def euclidean_distance_heuristic(x, y):\n",
    "    return np.sqrt((x-goal[0])**2 + (y-goal[1])**2)"
   ]
  },
  {
   "cell_type": "markdown",
   "metadata": {},
   "source": [
    "## Initialize heuristic"
   ]
  },
  {
   "cell_type": "code",
   "execution_count": 241,
   "metadata": {},
   "outputs": [
    {
     "name": "stderr",
     "output_type": "stream",
     "text": [
      "100%|██████████| 32/32 [00:00<00:00, 33970.57it/s]\n"
     ]
    }
   ],
   "source": [
    "#fill heuristic map\n",
    "for i in tqdm(range(mapResolution)):\n",
    "    for j in range(mapResolution):\n",
    "        heuristicMap[i, j] = euclidean_distance_heuristic(i/mapResolution, j/mapResolution)"
   ]
  },
  {
   "cell_type": "markdown",
   "metadata": {},
   "source": [
    "## Plot the current situation"
   ]
  },
  {
   "cell_type": "code",
   "execution_count": 219,
   "metadata": {},
   "outputs": [
    {
     "data": {
      "image/png": "[encoded data removed]",
      "text/plain": [
       "<Figure size 600x600 with 1 Axes>"
      ]
     },
     "metadata": {},
     "output_type": "display_data"
    }
   ],
   "source": [
    "plt.figure(figsize=(6, 6))\n",
    "plt.plot(start[0], start[1], 'go', label='Start')  # green dot for start\n",
    "plt.plot(goal[0], goal[1], 'ro', label='Goal')    # red dot for goal\n",
    "plt.xlim(0, 1)\n",
    "plt.ylim(0, 1)\n",
    "plt.gca().set_aspect('equal', adjustable='box')\n",
    "plt.xlabel('X')\n",
    "plt.ylabel('Y')\n",
    "\n",
    "#overlay heuristic map\n",
    "plt.imshow(heuristicMap, cmap='magma', interpolation='nearest', extent=[0, 1, 0, 1], origin='lower')\n",
    "plt.show()"
   ]
  }
 ],
 "metadata": {
  "kernelspec": {
   "display_name": ".venv",
   "language": "python",
   "name": "python3"
  },
  "language_info": {
   "codemirror_mode": {
    "name": "ipython",
    "version": 3
   },
   "file_extension": ".py",
   "mimetype": "text/x-python",
   "name": "python",
   "nbconvert_exporter": "python",
   "pygments_lexer": "ipython3",
   "version": "3.13.2"
  }
 },
 "nbformat": 4,
 "nbformat_minor": 2
}
