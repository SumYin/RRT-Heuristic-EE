{
 "cells": [
  {
   "cell_type": "markdown",
   "metadata": {},
   "source": [
    "## Set up Enviroment by enabling the current workspace venv"
   ]
  },
  {
   "cell_type": "code",
   "execution_count": 18,
   "metadata": {
    "vscode": {
     "languageId": "shellscript"
    }
   },
   "outputs": [
    {
     "name": "stdout",
     "output_type": "stream",
     "text": [
      "asttokens==3.0.0\n",
      "colorama==0.4.6\n",
      "comm==0.2.2\n",
      "contourpy==1.3.1\n",
      "cycler==0.12.1\n",
      "debugpy==1.8.12\n",
      "decorator==5.2.1\n",
      "executing==2.2.0\n",
      "fonttools==4.56.0\n",
      "imageio==2.37.0\n",
      "ipykernel==6.29.5\n",
      "ipython==8.32.0\n",
      "jedi==0.19.2\n",
      "jupyter_client==8.6.3\n",
      "jupyter_core==5.7.2\n",
      "kiwisolver==1.4.8\n",
      "matplotlib==3.10.0\n",
      "matplotlib-inline==0.1.7\n",
      "nest-asyncio==1.6.0\n",
      "numpy==2.2.3\n",
      "packaging==24.2\n",
      "pandas==2.2.3\n",
      "parso==0.8.4\n",
      "pillow==11.1.0\n",
      "platformdirs==4.3.6\n",
      "prompt_toolkit==3.0.50\n",
      "psutil==7.0.0\n",
      "pure_eval==0.2.3\n",
      "Pygments==2.19.1\n",
      "pyparsing==3.2.1\n",
      "python-dateutil==2.9.0.post0\n",
      "pytz==2025.1\n",
      "pywin32==308\n",
      "pyzmq==26.2.1\n",
      "scipy==1.15.2\n",
      "six==1.17.0\n",
      "stack-data==0.6.3\n",
      "tornado==6.4.2\n",
      "tqdm==4.67.1\n",
      "traitlets==5.14.3\n",
      "tzdata==2025.1\n",
      "wcwidth==0.2.13\n"
     ]
    }
   ],
   "source": [
    "!pip freeze"
   ]
  },
  {
   "cell_type": "code",
   "execution_count": 19,
   "metadata": {
    "vscode": {
     "languageId": "shellscript"
    }
   },
   "outputs": [
    {
     "name": "stdout",
     "output_type": "stream",
     "text": [
      "Requirement already satisfied: matplotlib in c:\\users\\sumyin\\documents\\github\\rrt-heuristic-ee\\.venv\\lib\\site-packages (3.10.0)\n",
      "Requirement already satisfied: contourpy>=1.0.1 in c:\\users\\sumyin\\documents\\github\\rrt-heuristic-ee\\.venv\\lib\\site-packages (from matplotlib) (1.3.1)\n",
      "Requirement already satisfied: cycler>=0.10 in c:\\users\\sumyin\\documents\\github\\rrt-heuristic-ee\\.venv\\lib\\site-packages (from matplotlib) (0.12.1)\n",
      "Requirement already satisfied: fonttools>=4.22.0 in c:\\users\\sumyin\\documents\\github\\rrt-heuristic-ee\\.venv\\lib\\site-packages (from matplotlib) (4.56.0)\n",
      "Requirement already satisfied: kiwisolver>=1.3.1 in c:\\users\\sumyin\\documents\\github\\rrt-heuristic-ee\\.venv\\lib\\site-packages (from matplotlib) (1.4.8)\n",
      "Requirement already satisfied: numpy>=1.23 in c:\\users\\sumyin\\documents\\github\\rrt-heuristic-ee\\.venv\\lib\\site-packages (from matplotlib) (2.2.3)\n",
      "Requirement already satisfied: packaging>=20.0 in c:\\users\\sumyin\\documents\\github\\rrt-heuristic-ee\\.venv\\lib\\site-packages (from matplotlib) (24.2)\n",
      "Requirement already satisfied: pillow>=8 in c:\\users\\sumyin\\documents\\github\\rrt-heuristic-ee\\.venv\\lib\\site-packages (from matplotlib) (11.1.0)\n",
      "Requirement already satisfied: pyparsing>=2.3.1 in c:\\users\\sumyin\\documents\\github\\rrt-heuristic-ee\\.venv\\lib\\site-packages (from matplotlib) (3.2.1)\n",
      "Requirement already satisfied: python-dateutil>=2.7 in c:\\users\\sumyin\\documents\\github\\rrt-heuristic-ee\\.venv\\lib\\site-packages (from matplotlib) (2.9.0.post0)\n",
      "Requirement already satisfied: six>=1.5 in c:\\users\\sumyin\\documents\\github\\rrt-heuristic-ee\\.venv\\lib\\site-packages (from python-dateutil>=2.7->matplotlib) (1.17.0)\n",
      "Requirement already satisfied: numpy in c:\\users\\sumyin\\documents\\github\\rrt-heuristic-ee\\.venv\\lib\\site-packages (2.2.3)\n",
      "Requirement already satisfied: pandas in c:\\users\\sumyin\\documents\\github\\rrt-heuristic-ee\\.venv\\lib\\site-packages (2.2.3)\n",
      "Requirement already satisfied: numpy>=1.26.0 in c:\\users\\sumyin\\documents\\github\\rrt-heuristic-ee\\.venv\\lib\\site-packages (from pandas) (2.2.3)\n",
      "Requirement already satisfied: python-dateutil>=2.8.2 in c:\\users\\sumyin\\documents\\github\\rrt-heuristic-ee\\.venv\\lib\\site-packages (from pandas) (2.9.0.post0)\n",
      "Requirement already satisfied: pytz>=2020.1 in c:\\users\\sumyin\\documents\\github\\rrt-heuristic-ee\\.venv\\lib\\site-packages (from pandas) (2025.1)\n",
      "Requirement already satisfied: tzdata>=2022.7 in c:\\users\\sumyin\\documents\\github\\rrt-heuristic-ee\\.venv\\lib\\site-packages (from pandas) (2025.1)\n",
      "Requirement already satisfied: six>=1.5 in c:\\users\\sumyin\\documents\\github\\rrt-heuristic-ee\\.venv\\lib\\site-packages (from python-dateutil>=2.8.2->pandas) (1.17.0)\n",
      "Requirement already satisfied: tqdm in c:\\users\\sumyin\\documents\\github\\rrt-heuristic-ee\\.venv\\lib\\site-packages (4.67.1)\n",
      "Requirement already satisfied: colorama in c:\\users\\sumyin\\documents\\github\\rrt-heuristic-ee\\.venv\\lib\\site-packages (from tqdm) (0.4.6)\n",
      "Requirement already satisfied: scipy in c:\\users\\sumyin\\documents\\github\\rrt-heuristic-ee\\.venv\\lib\\site-packages (1.15.2)\n",
      "Requirement already satisfied: numpy<2.5,>=1.23.5 in c:\\users\\sumyin\\documents\\github\\rrt-heuristic-ee\\.venv\\lib\\site-packages (from scipy) (2.2.3)\n",
      "Requirement already satisfied: imageio in c:\\users\\sumyin\\documents\\github\\rrt-heuristic-ee\\.venv\\lib\\site-packages (2.37.0)\n",
      "Requirement already satisfied: numpy in c:\\users\\sumyin\\documents\\github\\rrt-heuristic-ee\\.venv\\lib\\site-packages (from imageio) (2.2.3)\n",
      "Requirement already satisfied: pillow>=8.3.2 in c:\\users\\sumyin\\documents\\github\\rrt-heuristic-ee\\.venv\\lib\\site-packages (from imageio) (11.1.0)\n"
     ]
    }
   ],
   "source": [
    "!pip install matplotlib\n",
    "!pip install numpy\n",
    "!pip install pandas\n",
    "!pip install tqdm\n",
    "!pip install scipy\n",
    "!pip install imageio"
   ]
  },
  {
   "cell_type": "markdown",
   "metadata": {},
   "source": [
    "## Initialize some values\n",
    "Here is how we are going to set this up, the entire map will be from {0<=x<=1} {0<=y<=1} \n",
    "The heruistic map will be split using the mapResolution variable to then split this 1x1 grid into sections to then generate a aproximated heruistic"
   ]
  },
  {
   "cell_type": "code",
   "execution_count": 20,
   "metadata": {},
   "outputs": [],
   "source": [
    "#import libraries\n",
    "import numpy as np\n",
    "import matplotlib.pyplot as plt\n",
    "import scipy as sp\n",
    "from tqdm import tqdm\n",
    "import time\n",
    "\n",
    "#Heuristic map\n",
    "mapResolution = 16\n",
    "heuristicMap = np.zeros((mapResolution, mapResolution))\n",
    "\n",
    "#Start and Goal\n",
    "start = (0, 0)\n",
    "goal = (1, 1)\n",
    "\n",
    "#Goal range\n",
    "goalRange = 0.05\n",
    "distanceUnit = 0.05"
   ]
  },
  {
   "cell_type": "markdown",
   "metadata": {},
   "source": [
    "## Set up some Functions"
   ]
  },
  {
   "cell_type": "code",
   "execution_count": null,
   "metadata": {},
   "outputs": [],
   "source": [
    "#corodinates to heuristic map index *not sure if this is needed\n",
    "def coord2heuristic(x, y):\n",
    "    if x > 1 or x < 0 or y > 1 or y < 0:\n",
    "        print(f\"Error: x and y must be within the range [0, 1]\")\n",
    "        raise ValueError\n",
    "    return (round(x*mapResolution) , round(y*mapResolution))\n",
    "\n",
    "#heuristic map index to coordinate within that cell, random uniform distribution within cell\n",
    "def heuristic2coord(x, y):\n",
    "    #x and y cannot be larger or equal to mapResolution\n",
    "    if x >= mapResolution or y >= mapResolution:\n",
    "        print(f\"Error: x and y cannot be larger or equal to mapResolution: {mapResolution}\")\n",
    "        raise ValueError\n",
    "    return (np.random.uniform(x/mapResolution, (x+1)/mapResolution), np.random.uniform(y/mapResolution, (y+1)/mapResolution))\n",
    "\n",
    "# Function to normalize heuristic map (0-1) then convert to probability distribution\n",
    "def normalize_to_probability(heuristic_map):\n",
    "    # Step 1: Linear Normalization (0 to 1)\n",
    "    min_val, max_val = np.min(heuristic_map), np.max(heuristic_map)\n",
    "    linear_norm = (heuristic_map - min_val) / (max_val - min_val)  # Scale to [0,1]\n",
    "\n",
    "    # Step 2: Normalize so it sums to 1 (Probability Distribution)\n",
    "    return linear_norm / np.sum(linear_norm)\n",
    "\n",
    "# Function to pick a weighted random cell\n",
    "def pick_weighted_random_cell(heuristic_map):\n",
    "    # Normalize and convert to probability distribution in one step\n",
    "    normalized_map = normalize_to_probability(heuristic_map)\n",
    "    \n",
    "    # Flatten for random selection\n",
    "    flat_map = normalized_map.flatten()\n",
    "    \n",
    "    # Pick a random cell based on probability\n",
    "    index = np.random.choice(len(flat_map), p=flat_map)\n",
    "    return np.unravel_index(index, heuristic_map.shape)  # Convert back to 2D index\n",
    "\n",
    "# Euclidean distance heuristic function\n",
    "def euclidean_distance_heuristic(x, y, goal):\n",
    "    return np.sqrt(2) - np.sqrt((x - goal[0])**2 + (y - goal[1])**2)\n",
    "\n",
    "def pick_pure_random_point():\n",
    "    return (np.random.uniform(0, 1), np.random.uniform(0, 1))"
   ]
  },
  {
   "cell_type": "markdown",
   "metadata": {},
   "source": [
    "## Initialize heuristic"
   ]
  },
  {
   "cell_type": "code",
   "execution_count": 22,
   "metadata": {},
   "outputs": [
    {
     "name": "stderr",
     "output_type": "stream",
     "text": [
      "100%|██████████| 16/16 [00:00<00:00, 28654.51it/s]\n"
     ]
    }
   ],
   "source": [
    "for i in tqdm(range(mapResolution)):\n",
    "    for j in range(mapResolution):\n",
    "        heuristicMap[i, j] = euclidean_distance_heuristic(i/mapResolution, j/mapResolution, goal)\n",
    "\n",
    "# Normalize map to probability distribution\n",
    "normalized_map = normalize_to_probability(heuristicMap)"
   ]
  },
  {
   "cell_type": "markdown",
   "metadata": {},
   "source": [
    "## Algorithm Time!"
   ]
  },
  {
   "cell_type": "code",
   "execution_count": 23,
   "metadata": {},
   "outputs": [],
   "source": [
    "def wrrt_algorithm(start, goal, goalRange, heuristicMap, distanceUnit, heuristic2coord, pick_random_cell):\n",
    "    tree = {start: (None, 0)}  # Dictionary to store parent and generation for each node\n",
    "    path = [start]\n",
    "\n",
    "    while np.linalg.norm(np.array(path[-1]) - np.array(goal)) > goalRange:\n",
    "        new_point = heuristic2coord(*pick_random_cell(heuristicMap))\n",
    "        # Find the closest node in the path to the new point\n",
    "        closest_node = path[0]\n",
    "        closest_distance = np.linalg.norm(np.array(new_point) - np.array(closest_node))\n",
    "        for node in path:\n",
    "            distance = np.linalg.norm(np.array(new_point) - np.array(node))\n",
    "            if distance < closest_distance:\n",
    "                closest_node = node\n",
    "                closest_distance = distance\n",
    "\n",
    "        # Calculate the new point that is distanceUnit away from the closest node\n",
    "        direction = np.array(new_point) - np.array(closest_node)\n",
    "        direction = direction / np.linalg.norm(direction)\n",
    "        new_point = tuple(np.array(closest_node) + direction * distanceUnit)\n",
    "        \n",
    "        # Add the new point to the path and record the connection and generation\n",
    "        path.append(new_point)\n",
    "        tree[new_point] = (closest_node, tree[closest_node][1] + 1)\n",
    "    \n",
    "    # Return the tree and the generation count of the last node\n",
    "    return tree, tree[path[-1]][1]\n",
    "\n",
    "def rrt_algorithm(start, goal, goalRange, distanceUnit, pick_random_point):\n",
    "    tree = {start: (None, 0)}  # Dictionary to store parent and generation for each node\n",
    "    path = [start]\n",
    "\n",
    "    while np.linalg.norm(np.array(path[-1]) - np.array(goal)) > goalRange:\n",
    "        new_point = pick_random_point()\n",
    "        # Find the closest node in the path to the new point\n",
    "        closest_node = path[0]\n",
    "        closest_distance = np.linalg.norm(np.array(new_point) - np.array(closest_node))\n",
    "        for node in path:\n",
    "            distance = np.linalg.norm(np.array(new_point) - np.array(node))\n",
    "            if distance < closest_distance:\n",
    "                closest_node = node\n",
    "                closest_distance = distance\n",
    "\n",
    "        # Calculate the new point that is distanceUnit away from the closest node\n",
    "        direction = np.array(new_point) - np.array(closest_node)\n",
    "        direction = direction / np.linalg.norm(direction)\n",
    "        new_point = tuple(np.array(closest_node) + direction * distanceUnit)\n",
    "        \n",
    "        # Add the new point to the path and record the connection and generation\n",
    "        path.append(new_point)\n",
    "        tree[new_point] = (closest_node, tree[closest_node][1] + 1)\n",
    "\n",
    "    # Return the tree and the generation count of the last node\n",
    "    return tree, tree[path[-1]][1]"
   ]
  },
  {
   "cell_type": "markdown",
   "metadata": {},
   "source": [
    "## Plot the current situation"
   ]
  },
  {
   "cell_type": "code",
   "execution_count": 52,
   "metadata": {},
   "outputs": [
    {
     "data": {
      "image/png": "[encoded data removed]",
      "text/plain": [
       "<Figure size 640x480 with 2 Axes>"
      ]
     },
     "metadata": {},
     "output_type": "display_data"
    },
    {
     "data": {
      "image/png": "[encoded data removed]",
      "text/plain": [
       "<Figure size 640x480 with 2 Axes>"
      ]
     },
     "metadata": {},
     "output_type": "display_data"
    }
   ],
   "source": [
    "# overlay heuristic map\n",
    "plt.imshow(heuristicMap, cmap='magma', interpolation='nearest', extent=[0, 1, 0, 1], origin='lower')\n",
    "plt.colorbar(label='Heuristic Value', fraction=0.046, pad=0.04)\n",
    "plt.title('Heuristic Map')\n",
    "plt.show()\n",
    "\n",
    "\n",
    "#overlay normalized heuristic map\n",
    "plt.imshow(normalized_map, cmap='magma', interpolation='nearest', extent=[0, 1, 0, 1], origin='lower')\n",
    "plt.colorbar(label='Normalized Heuristic Value', fraction=0.046, pad=0.04)\n",
    "plt.title('Normalized Heuristic Map')\n",
    "plt.show()"
   ]
  },
  {
   "cell_type": "code",
   "execution_count": 1,
   "metadata": {},
   "outputs": [
    {
     "ename": "NameError",
     "evalue": "name 'time' is not defined",
     "output_type": "error",
     "traceback": [
      "\u001b[31m---------------------------------------------------------------------------\u001b[39m",
      "\u001b[31mNameError\u001b[39m                                 Traceback (most recent call last)",
      "\u001b[36mCell\u001b[39m\u001b[36m \u001b[39m\u001b[32mIn[1]\u001b[39m\u001b[32m, line 2\u001b[39m\n\u001b[32m      1\u001b[39m \u001b[38;5;66;03m# run the WRRT algorithm and record the time taken\u001b[39;00m\n\u001b[32m----> \u001b[39m\u001b[32m2\u001b[39m start_time = \u001b[43mtime\u001b[49m.time()\n\u001b[32m      3\u001b[39m solved = wrrt_algorithm(start, goal, goalRange, heuristicMap, distanceUnit, heuristic2coord, pick_weighted_random_cell)\n\u001b[32m      4\u001b[39m tree= solved[\u001b[32m0\u001b[39m]\n",
      "\u001b[31mNameError\u001b[39m: name 'time' is not defined"
     ]
    }
   ],
   "source": [
    "# run the WRRT algorithm and record the time taken\n",
    "start_time = time.time()\n",
    "solved = wrrt_algorithm(start, goal, goalRange, heuristicMap, distanceUnit, heuristic2coord, pick_weighted_random_cell)\n",
    "tree= solved[0]\n",
    "\n",
    "print(f\"Time taken: {time.time() - start_time:.2f}s\")\n",
    "print(f\"Number of nodes in the tree: {len(tree)}\")\n",
    "print(f\"Generation of the last node: {solved[1]}\")\n",
    "\n",
    "\n",
    "# plot the tree with color coding using the generation\n",
    "plt.figure(figsize=(6, 6))\n",
    "plt.plot(start[0], start[1], 'go', label='Start')  # green dot for start\n",
    "plt.plot(goal[0], goal[1], 'ro', label='Goal')    # red dot for goal\n",
    "plt.xlim(0, 1)\n",
    "plt.ylim(0, 1)\n",
    "plt.gca().set_aspect('equal', adjustable='box')\n",
    "plt.xlabel('X')\n",
    "plt.ylabel('Y')\n",
    "\n",
    "for node, (parent, generation) in tree.items():\n",
    "    if parent is not None:\n",
    "        # color code based on generation\n",
    "        color = plt.cm.viridis(generation / max(tree.values(), key=lambda x: x[1])[1])\n",
    "        plt.plot([parent[0], node[0]], [parent[1], node[1]], color=color)\n",
    "plt.title('WRRT Tree')\n",
    "plt.show()\n",
    "\n",
    "#Run the RRT algorithm and record the time taken\n",
    "start_time = time.time()\n",
    "solved = rrt_algorithm(start, goal, goalRange, distanceUnit, pick_pure_random_point)\n",
    "tree= solved[0]\n",
    "\n",
    "print(f\"Time taken: {time.time() - start_time:.2f}s\")\n",
    "print(f\"Number of nodes in the tree: {len(tree)}\")\n",
    "print(f\"Generation of the last node: {solved[1]}\")\n",
    "\n",
    "# plot the tree with color coding using the generation\n",
    "plt.figure(figsize=(6, 6))\n",
    "plt.plot(start[0], start[1], 'go', label='Start')  # green dot for start\n",
    "plt.plot(goal[0], goal[1], 'ro', label='Goal')    # red dot for goal\n",
    "plt.xlim(0, 1)\n",
    "plt.ylim(0, 1)\n",
    "plt.gca().set_aspect('equal', adjustable='box')\n",
    "plt.xlabel('X')\n",
    "plt.ylabel('Y')\n",
    "\n",
    "for node, (parent, generation) in tree.items():\n",
    "    if parent is not None:\n",
    "        # color code based on generation\n",
    "        color = plt.cm.viridis(generation / max(tree.values(), key=lambda x: x[1])[1])\n",
    "        plt.plot([parent[0], node[0]], [parent[1], node[1]], color=color)\n",
    "\n",
    "plt.title('RRT Tree')\n",
    "plt.show()"
   ]
  },
  {
   "cell_type": "markdown",
   "metadata": {},
   "source": [
    "## Obsticals\n",
    "Now let's add obsticals. My idea right now is to do it where I can have obsticals/start/end location datastrcuture where the start and end location are points, and obsticals are a mathematical boxes/bounds where if the point we want to put is inside that area it would have to run again and try to make a new node. does this sound feasable or bad? or is there a better way"
   ]
  },
  {
   "cell_type": "code",
   "execution_count": null,
   "metadata": {},
   "outputs": [],
   "source": [
    "obsticales = [((0.24, 0), (0.26, 0.3)), ((0.24, 0.7), (0.26, 1))]"
   ]
  }
 ],
 "metadata": {
  "kernelspec": {
   "display_name": ".venv",
   "language": "python",
   "name": "python3"
  },
  "language_info": {
   "codemirror_mode": {
    "name": "ipython",
    "version": 3
   },
   "file_extension": ".py",
   "mimetype": "text/x-python",
   "name": "python",
   "nbconvert_exporter": "python",
   "pygments_lexer": "ipython3",
   "version": "3.13.2"
  }
 },
 "nbformat": 4,
 "nbformat_minor": 2
}
